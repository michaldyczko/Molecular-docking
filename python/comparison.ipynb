{
 "metadata": {
  "language_info": {
   "codemirror_mode": {
    "name": "ipython",
    "version": 3
   },
   "file_extension": ".py",
   "mimetype": "text/x-python",
   "name": "python",
   "nbconvert_exporter": "python",
   "pygments_lexer": "ipython3",
   "version": 3
  },
  "orig_nbformat": 2
 },
 "nbformat": 4,
 "nbformat_minor": 2,
 "cells": [
  {
   "source": [
    "\n",
    "\n",
    "                                                               .--- 6mh8A @4.2     0.0000\n",
    "                                                               |\n",
    "                                                               .--- 6ps7A @1.9     0.0000\n",
    "                                                               |\n",
    "                                                               .--- 5k2dA @1.9     0.0000\n",
    "                                                               |\n",
    "                                                               .--- 5k2cA @1.9     0.0000\n",
    "                                                               |\n",
    "                                          .------------------------ 5jtbA @2.8     0.1875\n",
    "                                          |\n",
    "                                          |                    .--- 5k2bA @2.5     0.0000\n",
    "                                          |                    |\n",
    "        .---------------------------------------------------------- 5uviA @3.2     0.4844\n",
    "        |\n",
    "        |                                                      .--- 5k2aA @2.5     0.0000\n",
    "        |                                                      |\n",
    "      .------------------------------------------------------------ 5vraA @2.3\n",
    "\n",
    "      +----+----+----+----+----+----+----+----+----+----+----+----+\n",
    "     0.5038    0.4166    0.3294    0.2422    0.1550    0.0678   -0.0194\n",
    "          0.4602    0.3730    0.2858    0.1986    0.1114    0.0242"
   ],
   "cell_type": "markdown",
   "metadata": {}
  },
  {
   "source": [
    "1. Ze względu na crystallographic resolution pozostaje nam 6ps7A, 5k2dA, 5k2cA:\n",
    "    - Rfree (więcej=gorzej): 0.207, 0.207, 0.208\n",
    "    - Clashscore (więcej=gorzej): 2, 3, 4\n",
    "    - Ramachandran outliers (więcej=gorzej): 0, 0, 0\n",
    "    - Sidechain outliers (więcej=gorzej): 1.7%, 2% (57 percentyl), 1.3% (69 percentyl)\n",
    "    - RSRZ outliers (więcej=gorzej): 29.6%, 17.2%, 17.7%\n",
    "2. Ze względu na RSRZ odrzucamy 6ps7A.\n",
    "3. Ze względu na dużą różnicę w sidechain outliers wybieramy 5k2cA."
   ],
   "cell_type": "markdown",
   "metadata": {}
  }
 ]
}